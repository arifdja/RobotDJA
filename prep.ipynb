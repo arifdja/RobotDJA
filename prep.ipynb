{
 "cells": [
  {
   "cell_type": "code",
   "execution_count": null,
   "id": "e6c229f1",
   "metadata": {},
   "outputs": [],
   "source": [
    "# Chatbot 1\n",
    "https://www.youtube.com/watch?v=vjTETlOVh1s"
   ]
  },
  {
   "cell_type": "code",
   "execution_count": null,
   "id": "0c43e62b",
   "metadata": {},
   "outputs": [
    {
     "name": "stdout",
     "output_type": "stream",
     "text": [
      "User\t: arif\n",
      "Bot\t: Aku tidak paham\n",
      "User\t: halo\n",
      "Bot\t: Hai juga\n",
      "User\t: hai\n",
      "Bot\t: Halo Juga\n",
      "User\t: mamat\n",
      "Bot\t: Aku tidak paham\n"
     ]
    }
   ],
   "source": [
    "import re\n",
    "import random\n",
    "\n",
    "sapaan = [\"Hai juga\",\"Halo Juga\",\"Apa Kabar\"]\n",
    "\n",
    "while True:\n",
    "    x = input(\"User\\t: \")\n",
    "    if re.findall(r'halo|hai',x):\n",
    "        print(\"Bot\\t:\", random.choice(sapaan))\n",
    "    else:\n",
    "        print(\"Bot\\t: Aku tidak paham\")"
   ]
  },
  {
   "cell_type": "code",
   "execution_count": null,
   "id": "76da06be",
   "metadata": {},
   "outputs": [],
   "source": [
    "# Chatbot 2\n",
    "https://www.youtube.com/watch?v=BE1ualB1MjM"
   ]
  },
  {
   "cell_type": "code",
   "execution_count": null,
   "id": "a7f1a1d3",
   "metadata": {},
   "outputs": [],
   "source": [
    "from newspaper import Article\n",
    "import random\n",
    "import string\n",
    "import nltk\n",
    "from sklearn.feature_extraction.text import CountVectorizer\n",
    "from sklearn.metrics.pairwise import cosine_similarity\n",
    "import numpy as np\n",
    "import warnings\n"
   ]
  },
  {
   "cell_type": "code",
   "execution_count": null,
   "id": "9d99e1fe",
   "metadata": {},
   "outputs": [],
   "source": [
    "# Chatbot 3\n",
    "https://www.youtube.com/watch?v=MVc31650_bA"
   ]
  },
  {
   "cell_type": "code",
   "execution_count": null,
   "id": "27ad7e48",
   "metadata": {},
   "outputs": [],
   "source": [
    "# NLP\n",
    "https://www.youtube.com/watch?v=ElQNIo22Enk"
   ]
  },
  {
   "cell_type": "code",
   "execution_count": null,
   "id": "4f8cf39c",
   "metadata": {},
   "outputs": [],
   "source": []
  }
 ],
 "metadata": {
  "kernelspec": {
   "display_name": "Python 3 (ipykernel)",
   "language": "python",
   "name": "python3"
  },
  "language_info": {
   "codemirror_mode": {
    "name": "ipython",
    "version": 3
   },
   "file_extension": ".py",
   "mimetype": "text/x-python",
   "name": "python",
   "nbconvert_exporter": "python",
   "pygments_lexer": "ipython3",
   "version": "3.9.7"
  }
 },
 "nbformat": 4,
 "nbformat_minor": 5
}
